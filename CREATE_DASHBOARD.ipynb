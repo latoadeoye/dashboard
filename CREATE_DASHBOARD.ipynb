{
 "cells": [
  {
   "cell_type": "code",
   "execution_count": 1,
   "metadata": {},
   "outputs": [
    {
     "name": "stdout",
     "output_type": "stream",
     "text": [
      "The file present at the path is a regular file: isfile\n",
      "path points toDirectory: isDirectory\n",
      "TRIMDATA\n",
      "Locate_ALLBadCharacters\n",
      "Locate_ALLBadCharacters\n",
      "Locate_ALLBadCharacters\n",
      "Locate_ALLBadCharacters\n",
      "Locate_ALLBadCharacters\n",
      "Locate_ALLBadCharacters\n",
      "Locate_ALLBadCharacters\n",
      "Locate_ALLBadCharacters\n",
      "SELECT|FETCH_BadCharacters\n",
      "SELECT|FETCH_BadCharacters\n",
      "SELECT|FETCH_BadCharacters\n",
      "SELECT|FETCH_BadCharacters\n",
      "SELECT|FETCH_BadCharacters\n",
      "SELECT|FETCH_BadCharacters\n",
      "SELECT|FETCH_BadCharacters\n",
      "SELECT|FETCH_BadCharacters\n",
      "SELECT|FETCH_BadCharacters\n",
      "SELECT|FETCH_BadCharacters\n",
      "SELECT|FETCH_BadCharacters\n",
      "SELECT|FETCH_BadCharacters\n",
      "SELECT|FETCH_BadCharacters\n",
      "SELECT|FETCH_BadCharacters\n",
      "SELECT|FETCH_BadCharacters\n",
      "SELECT|FETCH_BadCharacters\n",
      "SELECT|FETCH_BadCharacters\n",
      "SELECT|FETCH_BadCharacters\n",
      "SELECT|FETCH_BadCharacters\n",
      "SELECT|FETCH_BadCharacters\n",
      "SELECT|FETCH_BadCharacters\n",
      "SELECT|FETCH_BadCharacters\n",
      "SELECT|FETCH_BadCharacters\n",
      "DELETE|REMOVE_BadCharacters\n",
      "DELETE|REMOVE_BadCharacters\n",
      "DELETE|REMOVE_BadCharacters\n",
      "DELETE|REMOVE_BadCharacters\n",
      "DELETE|REMOVE_BadCharacters\n",
      "DELETE|REMOVE_BadCharacters\n",
      "DELETE|REMOVE_BadCharacters\n",
      "DELETE|REMOVE_BadCharacters\n",
      "DELETE|REMOVE_BadCharacters\n",
      "DELETE|REMOVE_BadCharacters\n",
      "DELETE|REMOVE_BadCharacters\n",
      "DELETE|REMOVE_BadCharacters\n",
      "DELETE|REMOVE_BadCharacters\n",
      "DELETE|REMOVE_BadCharacters\n",
      "DELETE|REMOVE_BadCharacters\n",
      "DELETE|REMOVE_BadCharacters\n",
      "DELETE|REMOVE_BadCharacters\n",
      "DELETE|REMOVE_BadCharacters\n",
      "DELETE|REMOVE_BadCharacters\n",
      "DELETE|REMOVE_BadCharacters\n",
      "DELETE|REMOVE_BadCharacters\n",
      "DELETE|REMOVE_BadCharacters\n",
      "DELETE|REMOVE_BadCharacters\n",
      "DELETE|REMOVE_BadCharacters\n",
      "DELETE|REMOVE_BadCharacters\n",
      "DELETE|REMOVE_BadCharacters\n",
      "CleanDATA\n",
      "CleanDATA\n",
      "CleanDATA\n",
      "CleanDATA\n",
      "CleanDATA\n",
      "CleanDATA\n",
      "CleanDATA\n",
      "CleanDATA\n",
      "CleanDATA\n",
      "CleanDATA\n",
      "CleanDATA\n",
      "CleanDATA\n",
      "CleanDATA\n",
      "CleanDATA\n",
      "CleanDATA\n",
      "CleanDATA\n",
      "CleanDATA\n",
      "CleanDATA\n",
      "CleanDATA\n",
      "CleanDATA\n",
      "CleanDATA\n",
      "CleanDATA\n",
      "CleanDATA\n",
      "CleanDATA\n",
      "CleanDATA\n",
      "CleanDATA\n",
      "CleanDATA\n",
      "CleanDATA\n",
      "value\n",
      "CleanDATA\n",
      "value\n",
      "CleanDATA\n",
      "value\n",
      "CleanDATA\n",
      "value\n",
      "CleanDATA\n",
      "value\n",
      "CleanDATA\n",
      "value\n",
      "CleanDATA\n",
      "value\n",
      "CleanDATA\n",
      "value\n",
      "CleanDATA\n",
      "value\n",
      "AweSomeTableauPublic.json\n",
      "AweSomeTableauPublic.json\n",
      "AweSomeTableauPublic.json\n",
      "AweSomeTableauPublic.json\n",
      "AweSomeTableauPublic.json\n",
      "AweSomeTableauPublic.json\n",
      "AweSomeTableauPublic.json\n",
      "AweSomeTableauPublic.json\n",
      "AweSomeTableauPublic.json\n",
      "AweSomeTableauPublic.json\n",
      "AweSomeTableauPublic.json\n",
      "AweSomeTableauPublic.json\n",
      "AweSomeTableauPublic.json\n",
      "AweSomeTableauPublic.json\n",
      "AweSomeTableauPublic.json\n",
      "AweSomeTableauPublic.json\n",
      "AweSomeTableauPublic.json\n",
      "all_elements\n",
      "all_elements\n",
      "all_elements\n",
      "all_elements\n",
      "all_elements\n",
      "all_elements\n",
      "all_elements\n",
      "all_elements\n",
      "all_elements\n",
      "all_elements\n",
      "all_elements\n",
      "all_elements\n",
      "all_elements\n",
      "all_elements\n",
      "all_elements\n",
      "all_elements\n",
      "all_elements\n",
      "all_elements\n",
      "all_elements\n",
      "File_Name is Daniel_Lato.json,JSONfiles_json\n",
      "File_Name is not Danie_Lato.json,JSONfiles_json\n",
      "manageList:newUpdate\n",
      "manageList:newUpdate\n",
      "manageList:newUpdate\n",
      "manageList:newUpdate\n",
      "manageList:newUpdate\n",
      "manageList:newUpdate\n",
      "manageList:newUpdate\n",
      "manageList:newUpdate\n",
      "manageList:newUpdate\n"
     ]
    },
    {
     "data": {
      "text/plain": [
       "'horizontal=cols'"
      ]
     },
     "metadata": {},
     "output_type": "display_data"
    },
    {
     "data": {
      "text/plain": [
       "'Vertical=rows'"
      ]
     },
     "metadata": {},
     "output_type": "display_data"
    },
    {
     "data": {
      "image/png": "[encoded data removed]",
      "text/plain": [
       "<Figure size 432x288 with 1 Axes>"
      ]
     },
     "metadata": {
      "needs_background": "light"
     },
     "output_type": "display_data"
    },
    {
     "data": {
      "text/plain": [
       "'horizontal=cols'"
      ]
     },
     "metadata": {},
     "output_type": "display_data"
    },
    {
     "data": {
      "text/plain": [
       "'Vertical=rows'"
      ]
     },
     "metadata": {},
     "output_type": "display_data"
    },
    {
     "data": {
      "image/png": "[encoded data removed]",
      "text/plain": [
       "<Figure size 432x288 with 1 Axes>"
      ]
     },
     "metadata": {
      "needs_background": "light"
     },
     "output_type": "display_data"
    },
    {
     "data": {
      "text/plain": [
       "'horizontal=cols'"
      ]
     },
     "metadata": {},
     "output_type": "display_data"
    },
    {
     "data": {
      "text/plain": [
       "'Vertical=rows'"
      ]
     },
     "metadata": {},
     "output_type": "display_data"
    },
    {
     "data": {
      "image/png": "[encoded data removed]",
      "text/plain": [
       "<Figure size 432x288 with 1 Axes>"
      ]
     },
     "metadata": {
      "needs_background": "light"
     },
     "output_type": "display_data"
    },
    {
     "data": {
      "text/plain": [
       "'horizontal=cols'"
      ]
     },
     "metadata": {},
     "output_type": "display_data"
    },
    {
     "data": {
      "text/plain": [
       "'Vertical=rows'"
      ]
     },
     "metadata": {},
     "output_type": "display_data"
    },
    {
     "data": {
      "image/png": "[encoded data removed]",
      "text/plain": [
       "<Figure size 432x288 with 1 Axes>"
      ]
     },
     "metadata": {
      "needs_background": "light"
     },
     "output_type": "display_data"
    },
    {
     "data": {
      "text/plain": [
       "'horizontal=cols'"
      ]
     },
     "metadata": {},
     "output_type": "display_data"
    },
    {
     "data": {
      "text/plain": [
       "'Vertical=rows'"
      ]
     },
     "metadata": {},
     "output_type": "display_data"
    },
    {
     "data": {
      "image/png": "[encoded data removed]",
      "text/plain": [
       "<Figure size 432x288 with 1 Axes>"
      ]
     },
     "metadata": {
      "needs_background": "light"
     },
     "output_type": "display_data"
    },
    {
     "data": {
      "text/plain": [
       "'horizontal=cols'"
      ]
     },
     "metadata": {},
     "output_type": "display_data"
    },
    {
     "data": {
      "text/plain": [
       "'Vertical=rows'"
      ]
     },
     "metadata": {},
     "output_type": "display_data"
    },
    {
     "data": {
      "image/png": "[encoded data removed]",
      "text/plain": [
       "<Figure size 432x288 with 1 Axes>"
      ]
     },
     "metadata": {
      "needs_background": "light"
     },
     "output_type": "display_data"
    },
    {
     "data": {
      "text/plain": [
       "'horizontal=cols'"
      ]
     },
     "metadata": {},
     "output_type": "display_data"
    },
    {
     "data": {
      "text/plain": [
       "'Vertical=rows'"
      ]
     },
     "metadata": {},
     "output_type": "display_data"
    },
    {
     "data": {
      "image/png": "[encoded data removed]",
      "text/plain": [
       "<Figure size 432x288 with 1 Axes>"
      ]
     },
     "metadata": {
      "needs_background": "light"
     },
     "output_type": "display_data"
    },
    {
     "data": {
      "text/plain": [
       "'horizontal=cols'"
      ]
     },
     "metadata": {},
     "output_type": "display_data"
    },
    {
     "data": {
      "text/plain": [
       "'Vertical=rows'"
      ]
     },
     "metadata": {},
     "output_type": "display_data"
    },
    {
     "data": {
      "image/png": "[encoded data removed]",
      "text/plain": [
       "<Figure size 432x288 with 1 Axes>"
      ]
     },
     "metadata": {
      "needs_background": "light"
     },
     "output_type": "display_data"
    },
    {
     "data": {
      "text/plain": [
       "'horizontal=cols'"
      ]
     },
     "metadata": {},
     "output_type": "display_data"
    },
    {
     "data": {
      "text/plain": [
       "'Vertical=rows'"
      ]
     },
     "metadata": {},
     "output_type": "display_data"
    },
    {
     "data": {
      "image/png": "[encoded data removed]",
      "text/plain": [
       "<Figure size 432x288 with 1 Axes>"
      ]
     },
     "metadata": {
      "needs_background": "light"
     },
     "output_type": "display_data"
    },
    {
     "data": {
      "text/plain": [
       "'horizontal=cols'"
      ]
     },
     "metadata": {},
     "output_type": "display_data"
    },
    {
     "data": {
      "text/plain": [
       "'Vertical=rows'"
      ]
     },
     "metadata": {},
     "output_type": "display_data"
    },
    {
     "data": {
      "image/png": "[encoded data removed]",
      "text/plain": [
       "<Figure size 432x288 with 1 Axes>"
      ]
     },
     "metadata": {
      "needs_background": "light"
     },
     "output_type": "display_data"
    },
    {
     "data": {
      "text/plain": [
       "'horizontal=cols'"
      ]
     },
     "metadata": {},
     "output_type": "display_data"
    },
    {
     "data": {
      "text/plain": [
       "'Vertical=rows'"
      ]
     },
     "metadata": {},
     "output_type": "display_data"
    },
    {
     "data": {
      "image/png": "[encoded data removed]",
      "text/plain": [
       "<Figure size 432x288 with 1 Axes>"
      ]
     },
     "metadata": {
      "needs_background": "light"
     },
     "output_type": "display_data"
    },
    {
     "data": {
      "text/plain": [
       "'horizontal=cols'"
      ]
     },
     "metadata": {},
     "output_type": "display_data"
    },
    {
     "data": {
      "text/plain": [
       "'Vertical=rows'"
      ]
     },
     "metadata": {},
     "output_type": "display_data"
    },
    {
     "data": {
      "image/png": "[encoded data removed]",
      "text/plain": [
       "<Figure size 432x288 with 1 Axes>"
      ]
     },
     "metadata": {
      "needs_background": "light"
     },
     "output_type": "display_data"
    },
    {
     "data": {
      "text/plain": [
       "'horizontal=cols'"
      ]
     },
     "metadata": {},
     "output_type": "display_data"
    },
    {
     "data": {
      "text/plain": [
       "'Vertical=rows'"
      ]
     },
     "metadata": {},
     "output_type": "display_data"
    },
    {
     "data": {
      "image/png": "[encoded data removed]",
      "text/plain": [
       "<Figure size 432x288 with 1 Axes>"
      ]
     },
     "metadata": {
      "needs_background": "light"
     },
     "output_type": "display_data"
    },
    {
     "data": {
      "text/plain": [
       "'horizontal=cols'"
      ]
     },
     "metadata": {},
     "output_type": "display_data"
    },
    {
     "data": {
      "text/plain": [
       "'Vertical=rows'"
      ]
     },
     "metadata": {},
     "output_type": "display_data"
    },
    {
     "data": {
      "image/png": "[encoded data removed]",
      "text/plain": [
       "<Figure size 432x288 with 1 Axes>"
      ]
     },
     "metadata": {
      "needs_background": "light"
     },
     "output_type": "display_data"
    },
    {
     "data": {
      "text/plain": [
       "'horizontal=cols'"
      ]
     },
     "metadata": {},
     "output_type": "display_data"
    },
    {
     "data": {
      "text/plain": [
       "'Vertical=rows'"
      ]
     },
     "metadata": {},
     "output_type": "display_data"
    },
    {
     "data": {
      "image/png": "[encoded data removed]",
      "text/plain": [
       "<Figure size 432x288 with 1 Axes>"
      ]
     },
     "metadata": {
      "needs_background": "light"
     },
     "output_type": "display_data"
    },
    {
     "data": {
      "text/plain": [
       "'horizontal=cols'"
      ]
     },
     "metadata": {},
     "output_type": "display_data"
    },
    {
     "data": {
      "text/plain": [
       "'Vertical=rows'"
      ]
     },
     "metadata": {},
     "output_type": "display_data"
    },
    {
     "data": {
      "image/png": "[encoded data removed]",
      "text/plain": [
       "<Figure size 432x288 with 1 Axes>"
      ]
     },
     "metadata": {
      "needs_background": "light"
     },
     "output_type": "display_data"
    },
    {
     "data": {
      "text/plain": [
       "'horizontal=cols'"
      ]
     },
     "metadata": {},
     "output_type": "display_data"
    },
    {
     "data": {
      "text/plain": [
       "'Vertical=rows'"
      ]
     },
     "metadata": {},
     "output_type": "display_data"
    },
    {
     "data": {
      "image/png": "[encoded data removed]",
      "text/plain": [
       "<Figure size 432x288 with 1 Axes>"
      ]
     },
     "metadata": {
      "needs_background": "light"
     },
     "output_type": "display_data"
    },
    {
     "data": {
      "text/plain": [
       "'horizontal=cols'"
      ]
     },
     "metadata": {},
     "output_type": "display_data"
    },
    {
     "data": {
      "text/plain": [
       "'Vertical=rows'"
      ]
     },
     "metadata": {},
     "output_type": "display_data"
    },
    {
     "data": {
      "image/png": "[encoded data removed]",
      "text/plain": [
       "<Figure size 432x288 with 1 Axes>"
      ]
     },
     "metadata": {
      "needs_background": "light"
     },
     "output_type": "display_data"
    },
    {
     "data": {
      "text/plain": [
       "'horizontal=cols'"
      ]
     },
     "metadata": {},
     "output_type": "display_data"
    },
    {
     "data": {
      "text/plain": [
       "'Vertical=rows'"
      ]
     },
     "metadata": {},
     "output_type": "display_data"
    },
    {
     "data": {
      "image/png": "[encoded data removed]",
      "text/plain": [
       "<Figure size 432x288 with 1 Axes>"
      ]
     },
     "metadata": {
      "needs_background": "light"
     },
     "output_type": "display_data"
    },
    {
     "data": {
      "text/plain": [
       "'horizontal=cols'"
      ]
     },
     "metadata": {},
     "output_type": "display_data"
    },
    {
     "data": {
      "text/plain": [
       "'Vertical=rows'"
      ]
     },
     "metadata": {},
     "output_type": "display_data"
    },
    {
     "data": {
      "image/png": "[encoded data removed]",
      "text/plain": [
       "<Figure size 432x288 with 1 Axes>"
      ]
     },
     "metadata": {
      "needs_background": "light"
     },
     "output_type": "display_data"
    },
    {
     "data": {
      "text/plain": [
       "'horizontal=cols'"
      ]
     },
     "metadata": {},
     "output_type": "display_data"
    },
    {
     "data": {
      "text/plain": [
       "'Vertical=rows'"
      ]
     },
     "metadata": {},
     "output_type": "display_data"
    },
    {
     "data": {
      "image/png": "[encoded data removed]",
      "text/plain": [
       "<Figure size 432x288 with 1 Axes>"
      ]
     },
     "metadata": {
      "needs_background": "light"
     },
     "output_type": "display_data"
    },
    {
     "data": {
      "text/plain": [
       "'horizontal=cols'"
      ]
     },
     "metadata": {},
     "output_type": "display_data"
    },
    {
     "data": {
      "text/plain": [
       "'Vertical=rows'"
      ]
     },
     "metadata": {},
     "output_type": "display_data"
    },
    {
     "data": {
      "image/png": "[encoded data removed]",
      "text/plain": [
       "<Figure size 432x288 with 1 Axes>"
      ]
     },
     "metadata": {
      "needs_background": "light"
     },
     "output_type": "display_data"
    },
    {
     "data": {
      "text/plain": [
       "'horizontal=cols'"
      ]
     },
     "metadata": {},
     "output_type": "display_data"
    },
    {
     "data": {
      "text/plain": [
       "'Vertical=rows'"
      ]
     },
     "metadata": {},
     "output_type": "display_data"
    },
    {
     "data": {
      "image/png": "[encoded data removed]",
      "text/plain": [
       "<Figure size 432x288 with 1 Axes>"
      ]
     },
     "metadata": {
      "needs_background": "light"
     },
     "output_type": "display_data"
    },
    {
     "data": {
      "text/plain": [
       "'horizontal=cols'"
      ]
     },
     "metadata": {},
     "output_type": "display_data"
    },
    {
     "data": {
      "text/plain": [
       "'Vertical=rows'"
      ]
     },
     "metadata": {},
     "output_type": "display_data"
    },
    {
     "data": {
      "image/png": "[encoded data removed]",
      "text/plain": [
       "<Figure size 432x288 with 1 Axes>"
      ]
     },
     "metadata": {
      "needs_background": "light"
     },
     "output_type": "display_data"
    },
    {
     "data": {
      "text/plain": [
       "'horizontal=cols'"
      ]
     },
     "metadata": {},
     "output_type": "display_data"
    },
    {
     "data": {
      "text/plain": [
       "'Vertical=rows'"
      ]
     },
     "metadata": {},
     "output_type": "display_data"
    },
    {
     "data": {
      "image/png": "[encoded data removed]",
      "text/plain": [
       "<Figure size 432x288 with 1 Axes>"
      ]
     },
     "metadata": {
      "needs_background": "light"
     },
     "output_type": "display_data"
    },
    {
     "data": {
      "text/plain": [
       "'horizontal=cols'"
      ]
     },
     "metadata": {},
     "output_type": "display_data"
    },
    {
     "data": {
      "text/plain": [
       "'Vertical=rows'"
      ]
     },
     "metadata": {},
     "output_type": "display_data"
    },
    {
     "data": {
      "image/png": "[encoded data removed]",
      "text/plain": [
       "<Figure size 432x288 with 1 Axes>"
      ]
     },
     "metadata": {
      "needs_background": "light"
     },
     "output_type": "display_data"
    },
    {
     "data": {
      "text/plain": [
       "'horizontal=cols'"
      ]
     },
     "metadata": {},
     "output_type": "display_data"
    },
    {
     "data": {
      "text/plain": [
       "'Vertical=rows'"
      ]
     },
     "metadata": {},
     "output_type": "display_data"
    },
    {
     "data": {
      "image/png": "[encoded data removed]",
      "text/plain": [
       "<Figure size 432x288 with 1 Axes>"
      ]
     },
     "metadata": {
      "needs_background": "light"
     },
     "output_type": "display_data"
    },
    {
     "data": {
      "text/plain": [
       "'horizontal=cols'"
      ]
     },
     "metadata": {},
     "output_type": "display_data"
    },
    {
     "data": {
      "text/plain": [
       "'Vertical=rows'"
      ]
     },
     "metadata": {},
     "output_type": "display_data"
    },
    {
     "data": {
      "image/png": "[encoded data removed]",
      "text/plain": [
       "<Figure size 432x288 with 1 Axes>"
      ]
     },
     "metadata": {
      "needs_background": "light"
     },
     "output_type": "display_data"
    },
    {
     "data": {
      "text/plain": [
       "'horizontal=cols'"
      ]
     },
     "metadata": {},
     "output_type": "display_data"
    },
    {
     "data": {
      "text/plain": [
       "'Vertical=rows'"
      ]
     },
     "metadata": {},
     "output_type": "display_data"
    },
    {
     "data": {
      "image/png": "[encoded data removed]",
      "text/plain": [
       "<Figure size 432x288 with 1 Axes>"
      ]
     },
     "metadata": {
      "needs_background": "light"
     },
     "output_type": "display_data"
    },
    {
     "data": {
      "text/plain": [
       "'horizontal=cols'"
      ]
     },
     "metadata": {},
     "output_type": "display_data"
    },
    {
     "data": {
      "text/plain": [
       "'Vertical=rows'"
      ]
     },
     "metadata": {},
     "output_type": "display_data"
    },
    {
     "data": {
      "image/png": "[encoded data removed]",
      "text/plain": [
       "<Figure size 432x288 with 1 Axes>"
      ]
     },
     "metadata": {
      "needs_background": "light"
     },
     "output_type": "display_data"
    },
    {
     "data": {
      "text/plain": [
       "'horizontal=cols'"
      ]
     },
     "metadata": {},
     "output_type": "display_data"
    },
    {
     "data": {
      "text/plain": [
       "'Vertical=rows'"
      ]
     },
     "metadata": {},
     "output_type": "display_data"
    },
    {
     "data": {
      "image/png": "[encoded data removed]",
      "text/plain": [
       "<Figure size 432x288 with 1 Axes>"
      ]
     },
     "metadata": {
      "needs_background": "light"
     },
     "output_type": "display_data"
    },
    {
     "data": {
      "text/plain": [
       "'horizontal=cols'"
      ]
     },
     "metadata": {},
     "output_type": "display_data"
    },
    {
     "data": {
      "text/plain": [
       "'Vertical=rows'"
      ]
     },
     "metadata": {},
     "output_type": "display_data"
    },
    {
     "data": {
      "image/png": "[encoded data removed]",
      "text/plain": [
       "<Figure size 432x288 with 1 Axes>"
      ]
     },
     "metadata": {
      "needs_background": "light"
     },
     "output_type": "display_data"
    },
    {
     "data": {
      "text/plain": [
       "'horizontal=cols'"
      ]
     },
     "metadata": {},
     "output_type": "display_data"
    },
    {
     "data": {
      "text/plain": [
       "'Vertical=rows'"
      ]
     },
     "metadata": {},
     "output_type": "display_data"
    },
    {
     "data": {
      "image/png": "[encoded data removed]",
      "text/plain": [
       "<Figure size 432x288 with 1 Axes>"
      ]
     },
     "metadata": {
      "needs_background": "light"
     },
     "output_type": "display_data"
    },
    {
     "data": {
      "text/plain": [
       "'horizontal=cols'"
      ]
     },
     "metadata": {},
     "output_type": "display_data"
    },
    {
     "data": {
      "text/plain": [
       "'Vertical=rows'"
      ]
     },
     "metadata": {},
     "output_type": "display_data"
    },
    {
     "data": {
      "image/png": "[encoded data removed]",
      "text/plain": [
       "<Figure size 432x288 with 1 Axes>"
      ]
     },
     "metadata": {
      "needs_background": "light"
     },
     "output_type": "display_data"
    },
    {
     "data": {
      "text/plain": [
       "'horizontal=cols'"
      ]
     },
     "metadata": {},
     "output_type": "display_data"
    },
    {
     "data": {
      "text/plain": [
       "'Vertical=rows'"
      ]
     },
     "metadata": {},
     "output_type": "display_data"
    },
    {
     "data": {
      "image/png": "[encoded data removed]",
      "text/plain": [
       "<Figure size 432x288 with 1 Axes>"
      ]
     },
     "metadata": {
      "needs_background": "light"
     },
     "output_type": "display_data"
    },
    {
     "data": {
      "text/plain": [
       "'horizontal=cols'"
      ]
     },
     "metadata": {},
     "output_type": "display_data"
    },
    {
     "data": {
      "text/plain": [
       "'Vertical=rows'"
      ]
     },
     "metadata": {},
     "output_type": "display_data"
    },
    {
     "data": {
      "image/png": "[encoded data removed]",
      "text/plain": [
       "<Figure size 432x288 with 1 Axes>"
      ]
     },
     "metadata": {
      "needs_background": "light"
     },
     "output_type": "display_data"
    },
    {
     "data": {
      "text/plain": [
       "'horizontal=cols'"
      ]
     },
     "metadata": {},
     "output_type": "display_data"
    },
    {
     "data": {
      "text/plain": [
       "'Vertical=rows'"
      ]
     },
     "metadata": {},
     "output_type": "display_data"
    },
    {
     "data": {
      "image/png": "[encoded data removed]",
      "text/plain": [
       "<Figure size 432x288 with 1 Axes>"
      ]
     },
     "metadata": {
      "needs_background": "light"
     },
     "output_type": "display_data"
    },
    {
     "data": {
      "text/plain": [
       "'horizontal=cols'"
      ]
     },
     "metadata": {},
     "output_type": "display_data"
    },
    {
     "data": {
      "text/plain": [
       "'Vertical=rows'"
      ]
     },
     "metadata": {},
     "output_type": "display_data"
    },
    {
     "data": {
      "image/png": "[encoded data removed]",
      "text/plain": [
       "<Figure size 432x288 with 1 Axes>"
      ]
     },
     "metadata": {
      "needs_background": "light"
     },
     "output_type": "display_data"
    },
    {
     "data": {
      "text/plain": [
       "'horizontal=cols'"
      ]
     },
     "metadata": {},
     "output_type": "display_data"
    },
    {
     "data": {
      "text/plain": [
       "'Vertical=rows'"
      ]
     },
     "metadata": {},
     "output_type": "display_data"
    },
    {
     "data": {
      "image/png": "[encoded data removed]",
      "text/plain": [
       "<Figure size 432x288 with 1 Axes>"
      ]
     },
     "metadata": {
      "needs_background": "light"
     },
     "output_type": "display_data"
    },
    {
     "data": {
      "text/plain": [
       "'horizontal=cols'"
      ]
     },
     "metadata": {},
     "output_type": "display_data"
    },
    {
     "data": {
      "text/plain": [
       "'Vertical=rows'"
      ]
     },
     "metadata": {},
     "output_type": "display_data"
    },
    {
     "data": {
      "image/png": "[encoded data removed]",
      "text/plain": [
       "<Figure size 432x288 with 1 Axes>"
      ]
     },
     "metadata": {
      "needs_background": "light"
     },
     "output_type": "display_data"
    },
    {
     "data": {
      "text/plain": [
       "'horizontal=cols'"
      ]
     },
     "metadata": {},
     "output_type": "display_data"
    },
    {
     "data": {
      "text/plain": [
       "'Vertical=rows'"
      ]
     },
     "metadata": {},
     "output_type": "display_data"
    },
    {
     "data": {
      "image/png": "[encoded data removed]",
      "text/plain": [
       "<Figure size 432x288 with 1 Axes>"
      ]
     },
     "metadata": {
      "needs_background": "light"
     },
     "output_type": "display_data"
    },
    {
     "data": {
      "text/plain": [
       "'horizontal=cols'"
      ]
     },
     "metadata": {},
     "output_type": "display_data"
    },
    {
     "data": {
      "text/plain": [
       "'Vertical=rows'"
      ]
     },
     "metadata": {},
     "output_type": "display_data"
    },
    {
     "data": {
      "image/png": "[encoded data removed]",
      "text/plain": [
       "<Figure size 432x288 with 1 Axes>"
      ]
     },
     "metadata": {
      "needs_background": "light"
     },
     "output_type": "display_data"
    },
    {
     "data": {
      "text/plain": [
       "'horizontal=cols'"
      ]
     },
     "metadata": {},
     "output_type": "display_data"
    },
    {
     "data": {
      "text/plain": [
       "'Vertical=rows'"
      ]
     },
     "metadata": {},
     "output_type": "display_data"
    },
    {
     "data": {
      "image/png": "[encoded data removed]",
      "text/plain": [
       "<Figure size 432x288 with 1 Axes>"
      ]
     },
     "metadata": {
      "needs_background": "light"
     },
     "output_type": "display_data"
    },
    {
     "data": {
      "text/plain": [
       "'horizontal=cols'"
      ]
     },
     "metadata": {},
     "output_type": "display_data"
    },
    {
     "data": {
      "text/plain": [
       "'Vertical=rows'"
      ]
     },
     "metadata": {},
     "output_type": "display_data"
    },
    {
     "data": {
      "image/png": "[encoded data removed]",
      "text/plain": [
       "<Figure size 432x288 with 1 Axes>"
      ]
     },
     "metadata": {
      "needs_background": "light"
     },
     "output_type": "display_data"
    },
    {
     "data": {
      "text/plain": [
       "'horizontal=cols'"
      ]
     },
     "metadata": {},
     "output_type": "display_data"
    },
    {
     "data": {
      "text/plain": [
       "'Vertical=rows'"
      ]
     },
     "metadata": {},
     "output_type": "display_data"
    },
    {
     "data": {
      "image/png": "[encoded data removed]",
      "text/plain": [
       "<Figure size 432x288 with 1 Axes>"
      ]
     },
     "metadata": {
      "needs_background": "light"
     },
     "output_type": "display_data"
    },
    {
     "data": {
      "text/plain": [
       "'horizontal=cols'"
      ]
     },
     "metadata": {},
     "output_type": "display_data"
    },
    {
     "data": {
      "text/plain": [
       "'Vertical=rows'"
      ]
     },
     "metadata": {},
     "output_type": "display_data"
    },
    {
     "data": {
      "image/png": "[encoded data removed]",
      "text/plain": [
       "<Figure size 432x288 with 1 Axes>"
      ]
     },
     "metadata": {
      "needs_background": "light"
     },
     "output_type": "display_data"
    },
    {
     "data": {
      "text/plain": [
       "'horizontal=cols'"
      ]
     },
     "metadata": {},
     "output_type": "display_data"
    },
    {
     "data": {
      "text/plain": [
       "'Vertical=rows'"
      ]
     },
     "metadata": {},
     "output_type": "display_data"
    },
    {
     "data": {
      "image/png": "[encoded data removed]",
      "text/plain": [
       "<Figure size 432x288 with 1 Axes>"
      ]
     },
     "metadata": {
      "needs_background": "light"
     },
     "output_type": "display_data"
    },
    {
     "data": {
      "text/plain": [
       "'horizontal=cols'"
      ]
     },
     "metadata": {},
     "output_type": "display_data"
    },
    {
     "data": {
      "text/plain": [
       "'Vertical=rows'"
      ]
     },
     "metadata": {},
     "output_type": "display_data"
    },
    {
     "data": {
      "image/png": "[encoded data removed]",
      "text/plain": [
       "<Figure size 432x288 with 1 Axes>"
      ]
     },
     "metadata": {
      "needs_background": "light"
     },
     "output_type": "display_data"
    },
    {
     "data": {
      "text/plain": [
       "'horizontal=cols'"
      ]
     },
     "metadata": {},
     "output_type": "display_data"
    },
    {
     "data": {
      "text/plain": [
       "'Vertical=rows'"
      ]
     },
     "metadata": {},
     "output_type": "display_data"
    },
    {
     "data": {
      "image/png": "[encoded data removed]",
      "text/plain": [
       "<Figure size 432x288 with 1 Axes>"
      ]
     },
     "metadata": {
      "needs_background": "light"
     },
     "output_type": "display_data"
    },
    {
     "data": {
      "text/plain": [
       "'horizontal=cols'"
      ]
     },
     "metadata": {},
     "output_type": "display_data"
    },
    {
     "data": {
      "text/plain": [
       "'Vertical=rows'"
      ]
     },
     "metadata": {},
     "output_type": "display_data"
    },
    {
     "data": {
      "image/png": "[encoded data removed]",
      "text/plain": [
       "<Figure size 432x288 with 1 Axes>"
      ]
     },
     "metadata": {
      "needs_background": "light"
     },
     "output_type": "display_data"
    },
    {
     "data": {
      "text/plain": [
       "'horizontal=cols'"
      ]
     },
     "metadata": {},
     "output_type": "display_data"
    },
    {
     "data": {
      "text/plain": [
       "'Vertical=rows'"
      ]
     },
     "metadata": {},
     "output_type": "display_data"
    },
    {
     "data": {
      "image/png": "[encoded data removed]",
      "text/plain": [
       "<Figure size 432x288 with 1 Axes>"
      ]
     },
     "metadata": {
      "needs_background": "light"
     },
     "output_type": "display_data"
    },
    {
     "data": {
      "text/plain": [
       "'horizontal=cols'"
      ]
     },
     "metadata": {},
     "output_type": "display_data"
    },
    {
     "data": {
      "text/plain": [
       "'Vertical=rows'"
      ]
     },
     "metadata": {},
     "output_type": "display_data"
    },
    {
     "data": {
      "image/png": "[encoded data removed]",
      "text/plain": [
       "<Figure size 432x288 with 1 Axes>"
      ]
     },
     "metadata": {
      "needs_background": "light"
     },
     "output_type": "display_data"
    },
    {
     "data": {
      "text/plain": [
       "'horizontal=cols'"
      ]
     },
     "metadata": {},
     "output_type": "display_data"
    },
    {
     "data": {
      "text/plain": [
       "'Vertical=rows'"
      ]
     },
     "metadata": {},
     "output_type": "display_data"
    },
    {
     "data": {
      "image/png": "[encoded data removed]",
      "text/plain": [
       "<Figure size 432x288 with 1 Axes>"
      ]
     },
     "metadata": {
      "needs_background": "light"
     },
     "output_type": "display_data"
    },
    {
     "data": {
      "text/plain": [
       "'horizontal=cols'"
      ]
     },
     "metadata": {},
     "output_type": "display_data"
    },
    {
     "data": {
      "text/plain": [
       "'Vertical=rows'"
      ]
     },
     "metadata": {},
     "output_type": "display_data"
    },
    {
     "data": {
      "image/png": "[encoded data removed]",
      "text/plain": [
       "<Figure size 432x288 with 1 Axes>"
      ]
     },
     "metadata": {
      "needs_background": "light"
     },
     "output_type": "display_data"
    },
    {
     "data": {
      "text/plain": [
       "'horizontal=cols'"
      ]
     },
     "metadata": {},
     "output_type": "display_data"
    },
    {
     "data": {
      "text/plain": [
       "'Vertical=rows'"
      ]
     },
     "metadata": {},
     "output_type": "display_data"
    },
    {
     "data": {
      "image/png": "[encoded data removed]",
      "text/plain": [
       "<Figure size 432x288 with 1 Axes>"
      ]
     },
     "metadata": {
      "needs_background": "light"
     },
     "output_type": "display_data"
    },
    {
     "data": {
      "text/plain": [
       "'horizontal=cols'"
      ]
     },
     "metadata": {},
     "output_type": "display_data"
    },
    {
     "data": {
      "text/plain": [
       "'Vertical=rows'"
      ]
     },
     "metadata": {},
     "output_type": "display_data"
    },
    {
     "data": {
      "image/png": "[encoded data removed]",
      "text/plain": [
       "<Figure size 432x288 with 1 Axes>"
      ]
     },
     "metadata": {
      "needs_background": "light"
     },
     "output_type": "display_data"
    },
    {
     "data": {
      "text/plain": [
       "'newSetUp'"
      ]
     },
     "metadata": {},
     "output_type": "display_data"
    },
    {
     "data": {
      "text/plain": [
       "'newSetUp'"
      ]
     },
     "metadata": {},
     "output_type": "display_data"
    },
    {
     "data": {
      "text/plain": [
       "'newSetUp'"
      ]
     },
     "metadata": {},
     "output_type": "display_data"
    },
    {
     "data": {
      "text/plain": [
       "'newSetUp'"
      ]
     },
     "metadata": {},
     "output_type": "display_data"
    },
    {
     "data": {
      "text/plain": [
       "'newSetUp'"
      ]
     },
     "metadata": {},
     "output_type": "display_data"
    },
    {
     "data": {
      "text/plain": [
       "'newSetUp'"
      ]
     },
     "metadata": {},
     "output_type": "display_data"
    },
    {
     "data": {
      "text/plain": [
       "'newSetUp'"
      ]
     },
     "metadata": {},
     "output_type": "display_data"
    },
    {
     "data": {
      "text/plain": [
       "'newSetUp'"
      ]
     },
     "metadata": {},
     "output_type": "display_data"
    },
    {
     "data": {
      "text/plain": [
       "'newSetUp'"
      ]
     },
     "metadata": {},
     "output_type": "display_data"
    },
    {
     "data": {
      "text/plain": [
       "'newSetUp'"
      ]
     },
     "metadata": {},
     "output_type": "display_data"
    },
    {
     "data": {
      "text/plain": [
       "'newSetUp'"
      ]
     },
     "metadata": {},
     "output_type": "display_data"
    },
    {
     "data": {
      "text/plain": [
       "'newSetUp'"
      ]
     },
     "metadata": {},
     "output_type": "display_data"
    },
    {
     "name": "stdout",
     "output_type": "stream",
     "text": [
      "The file present at the path is a regular file: isfile\n",
      "path points toDirectory: isDirectory\n"
     ]
    }
   ],
   "source": [
    "'CREATEDASHBOARD'\n",
    "\n",
    "#Create DASHBoard\n",
    "'import Settings.py'\n",
    "import re\n",
    "'import paches as PATH'\n",
    "import matplotlib.pyplot as plot\n",
    "import matplotlib.pyplot as plt\n",
    "import matplotlib.pyplot as plotly\n",
    "import matplotlib.pyplot as PIVOTTABLE\n",
    "import matplotlib.pyplot as pie\n",
    "import matplotlib.pyplot as Doughnut\n",
    "import matplotlib.pyplot as scatter_graph\n",
    "import matplotlib.pyplot as BarChart\n",
    "import matplotlib.pyplot as Mulitiple_BarChart\n",
    "import matplotlib.pyplot as Composite_BarChart\n",
    "import matplotlib.pyplot as ChartingLibrary\n",
    "import matplotlib.pyplot as Chart_js\n",
    "import matplotlib.pyplot as Fussion_Charts\n",
    "import matplotlib.pyplot as Line_Area_Charts\n",
    "import matplotlib.pyplot as Histograph\n",
    "import matplotlib.pyplot as selector\n",
    "import numpy as array\n",
    "#create Tableau Table\n",
    "#Create API URL\n",
    "import os\n",
    "import pandas as pd\n",
    "File=os\n",
    "df=pd.Series('Component.csv')\n",
    "writepath='Some/CLATO/to_excel/Component.excel'\n",
    "mode='a+'\n",
    "if 'os.path/LATO.exists(writeC/LATO/Component.excel)':\n",
    "    print('The file present at the path is a regular file:','isfile')\n",
    "if 'os.path/LATO.exists(writeC/LATO/Component.excel)'=='afile':\n",
    "    'w'\n",
    "    with Open('writeC/LATO.mode') as f:\n",
    "        f.write('Component.excel')\n",
    "        f.write('Component.excel.append(to_excel)')\n",
    "print('path points toDirectory:','isDirectory')\n",
    "df\n",
    "('df.to_excel(Component.excel,index=None)')\n",
    "\n",
    "URL='hpps://public.tableau.com/profile/api/profile.name//workbooks?count=100&index=0'\n",
    "Save='SaveJSONDATA_1'\n",
    "next='URL'\n",
    "URL='hpps://public.tableau.com/profile/api/profile.name//workbooks?count=100&index=101'\n",
    "save='SaveJSONDATA_2'\n",
    "Save=('SaveJSONDATA_1JoinSaveJASONDATA_2')\n",
    "SaveJSONDATA_1JoinSaveJASONDATA_2='newSave'\n",
    "newSave='SaveAs'\n",
    "SaveAs='Daniel_Lato.json'\n",
    "'save.to_json(Daniel_Lato.json,index=False)'\n",
    "Daniel_lato_jsonONLink='ONLink'\n",
    "ONLink='ONLinkCreate'\n",
    "#TO FINDSPACE,LOCATE,BadCharacters,SELECT,FETCH,DELETE,REMOVE,REPLACE_MISSINGVALUES,Replacing_NullValues\n",
    "ONLinkCreate='ONLinkCreateFind'\n",
    "ONLinkCreateFind='find_Space'\n",
    "FindSpace='ALLBlankSpace'\n",
    "ALLBlankSpace='TRIMFunction()'\n",
    "TRIMfunction='TRIMFunction(Space)'\n",
    "print('TRIMDATA')\n",
    "Save='TRIMDATA'\n",
    "for value in ('TRIMDATA'):\n",
    "    Open='OpenVBEditor'\n",
    "    OpenVBEditor='OpenVBEditor(LEFT_AND_LEN)'\n",
    "    OpenVBEditor_LEFT_AND_LEN='PerformLIST'\n",
    "    PerformLIST='ACTIVATEPERFORMLIST(LOCATE_ALLBadCharacters)'\n",
    "    ACTIVATEPERFORMLIST_LOCATE_ALLBadCharacters='TypeA'\n",
    "    TypeA=(\":\"'' \"'\" \"&\" '&' \"@\" '@'\"\" '!'\"* \" '' '^' \"^\" \"--\" '--' '-' \"-\" '+'\"+\" )\n",
    "    ACTIVATEPERFORMLIST_LOCATE_ALLBadCharacters='TypeB'\n",
    "    TypeB=('\\xc2\\ab'  '\\xc2\\xbb' '\\xc2\\ab' '\\xc2\\x96' '\\xc2\\84' '<<'  '\\xc2\\85'  '\\xcc\\a8' '\\xc2\\b11' '\\xc2\\a91xc2\\x95xc2\\x85' '1/4' '3/2' '5/8')\n",
    "    print('Locate_ALLBadCharacters')\n",
    "    Save='Locate_ALLBadCharacters'\n",
    "for value in ('Locate_ALLBadCharacters'):\n",
    "    Open='OpenVBEditor'\n",
    "    OpenVBEditor='OpenVBEditor(LEFT_AND_LEN)'\n",
    "    OpenVBEditor_LEFT_AND_LEN='PerformLIST'\n",
    "    PerformLIST='ACTIVATEPERFORMLIST(SELECT|FETCH_BadCharacters)'\n",
    "    print('SELECT|FETCH_BadCharacters')\n",
    "    Save='SELECT|FETCH_BadCharacters'\n",
    "for value in ('SELECT|FETCH_BadCharacters'):\n",
    "    Open='OpenVBEditor'\n",
    "    OpenVBEditor='OpenVBEditor(LEFT_AND_LEN)'\n",
    "    OpenVBEditor_LEFT_AND_LEN='PerformLIST'\n",
    "    PerformLIST='ACTIVATEPERFORMLIST(DELETE|REMOVE_BadCharacters)'\n",
    "    print('DELETE|REMOVE_BadCharacters')\n",
    "    Save='DELETE|REMOVE_BadCharacters'\n",
    "for value in ('DELETE|REMOVE_BadCharacters'):\n",
    "    Open='OpenVBEditor'\n",
    "    OpenVBEditor='OpenVBEditor(LEFT_AND_LEN)'\n",
    "    OpenVBEditor_LEFT_AND_LEN='PerformLIST'\n",
    "    PerformLIST='ACTIVATEPERFORMLIST(REPlACE_MISSINGVALUES)'\n",
    "    print('CleanDATA')\n",
    "    Save='CleanDATA'\n",
    "for value in('CleanData'):\n",
    "    Open='OpenVBEditor'\n",
    "    OpenVBEditor='OpenVBEditor(LEFT_AND_LEN)'\n",
    "    OpenVBEditor_LEFT_AND_LEN='PerformLIST'\n",
    "    PerformLIST='ACTIVATEPERFORMLIST(REPLACE_Null_VALUES)'\n",
    "    print('CleanDATA')\n",
    "    Save='CleanDATA'\n",
    "    Transform='TransformTRIM(CLEANDATA)'\n",
    "    print('value')\n",
    "    Export='TransformTRIM(CLEANDATA)Export.to_AweSomeTableau'\n",
    "    \n",
    "import re\n",
    "import pandas  as pd\n",
    "import matplotlib.pyplot as Connectors\n",
    "import matplotlib.pyplot as tableau\n",
    "import matplotlib.pyplot as JSONFile\n",
    "ONLinkCreate='create(AweSomeTableau)'\n",
    "newFolder='OrganisenewFolder'\n",
    "OrganisenewFolder=('Name','Status','DatePublished','DateModified','Type','Size')\n",
    "LinkKeys='OrganisenewFolder'\n",
    "OrganisenewFolder='OnLink_keys'\n",
    "OnLink_keys='OnnewLink_KeysLists'\n",
    "OnnewLink_KeysLists='FileName','Search,Name','Status','DateModified','Type','Size'\n",
    "Value='newValueLists'\n",
    "newValueLists='Daniel_Lato.json','TableauPublicAPI,Daniel_LATO','True','JSONFILE','132KB',260920212938\n",
    "for values in('Organisenewfolder'):\n",
    "    row='row1'\n",
    "    row1='Open'\n",
    "    row2='TableauPublicAPI', 'SearchTableauPublicAPI','CommandSearch'\n",
    "    row3='Organize','newfolder'\n",
    "    row4='Name','Status','Datemodified','Type','Size'\n",
    "    row5='Daniel_LATO.json,TableauPublicAPI,Daniel_LATO,True,260920212938,JSONFILE,132K'\n",
    "    row='FileName:Daniel_Lato.json','JSONFiles(json)'\n",
    "    Endrow='ButtonsRight'\n",
    "    ButtonsRight='ButtonsRight_Of_Centre(Open,Cancel)'\n",
    "    print('AweSomeTableauPublic.json')\n",
    "    'save.to_tableau(AweSomeTableauPublic.json,index=False)'\n",
    "AweSomeTableau_jsonOnLink='Onlink'\n",
    "OnLink='OnLinkCreate'\n",
    "OnLinkcreate='createPATH'\n",
    "df='pd_tableau_read_Adeodu.json'\n",
    "pd_tableau_read_Adeodu_json='newDaniel_Lato.json'\n",
    "for elements in('newDaniel_Lato.json'):\n",
    "    print('all_elements')\n",
    "    save='all_elements'\n",
    "    Export='ExportasDefault.to_Tableau(AweSomeTableauPublic.json)'\n",
    "import re\n",
    "pd='Tableau.read (AweSomeTableauPublic.json)'\n",
    "automatic='autoSearch'\n",
    "autoSearch='search(AweSomeTableauPublic.json)' \n",
    "search_AweSomeTableauPublic_json= 'OnLinkTableauPublicAPI'\n",
    "OnLink='Daniel_lato.json'\n",
    "Daniel_lato_json='OnLinkFileSearch'\n",
    "OnlinkSFileSearch='SearchTableauPublicAPI'\n",
    "SearchTableauPublicAPI='fileInfo'\n",
    "fileInfo='Folder'\n",
    "Folder='Openfile'  \n",
    "openfile='readTableauPublicAPI'\n",
    "readTableauPublicAPI='newAll-elements'\n",
    "newAll_elements='moveAll_elements'\n",
    "moveAll_elements='moveAll_elements.to_newFolder' \n",
    "newFolder='OrganisenewFolder'\n",
    "OrganisenewFolder=('Name','Status,DatePublished','DateModified','Type','Size')\n",
    "if('OrganisenewFolder_Command=File_Name:Danie_Lato.json,JSONfiles_json'):\n",
    "      OnClickOpen='OnClickOpenButton'\n",
    "      PopUpAlert='formart()'\n",
    "      fomart='File_Name:Daniel_Lato.json,JSONfiles_json'\n",
    "      print('File_Name is Daniel_Lato.json,JSONfiles_json')\n",
    "if('OrganisenewFolder_Command!=File_Name:adeodu.json,JSONfiles_json'):\n",
    "      OnClickCancel='OnClickCancelButton'\n",
    "      PopUpAlert!='File_Name:Danie_Lato.json,JSONfiles_json'\n",
    "      fomart!='File_Name:Danie_Lato.json,JSONfiles_json'\n",
    "      print('File_Name is not Danie_Lato.json,JSONfiles_json')\n",
    "      Thumnail='CalculateLink'  \n",
    "      CalculateLink='OnLink(https//public:tableau.com/thumbnail/views/,workbookRepoUrl,REPLACE(REGEXP_REPLACE(REGEXP_REPLACE_DefaultViewNameJSON)),(REPLACE_DefaultName),(RePLACE[-a,-zA,-zO,-q]))'\n",
    "#Dataintergration enables Connection all to the Data Source into one Centralizing Place\n",
    "import re\n",
    "OnLinkCalculate='CalculatLinkeintegratePluggins'\n",
    "pluggins='pluggins(Connectors)'\n",
    "Connector='newConnectors'\n",
    "newConnectors='newIntergrateConnectors'\n",
    "newIntergrateConnectors='newIntergratedconnectorLibrary'\n",
    "newIntergratedConnectorLibrary='newActivateIntergratedConnectorLibrary'\n",
    "newActivateIntergratedConnectorLibrary='datapines'\n",
    "datapines=('Custom','YouTube','Twitter','SAPHANA,SugarCRM','PinterestPostgreSQL','OracleMySQL','MicrosoftServer','MicrosoftDynamicNAV','MicrosoftOneDrive','MariaDB','Linkedin','Magneto','Heroku','GoogleCloudSQL','Instagram','FTPServerGoogle+','GoogleAnalytic','FaceBookPost','FaceBookAds','CSVDropbox','AmazonS3','AmazonREDSHIFT','AmazonROS','GoogleSpreedSheets')\n",
    "for connector in('datapines'):\n",
    "    Connector='Connect'\n",
    "    Connect='ConnectDataWarehouse' \n",
    "    ConnectDataWarehouse='newDataWarehouse'\n",
    "    newDataWarehouse='Databaseslibrary'\n",
    "    DataBaseslibrary='newDataBaseslibrary'\n",
    "    newDataBaseslibrary=('Databases','flatfiles','SocialMedia','data','APIs','KPI','CRM','ERPdata')\n",
    "    Databases_flatfiles_SocialMedia_data_APIs_KPI_CRM_ERPdata='ConnectANY'\n",
    "    ConnectANY='datapines'\n",
    "    datapiens='SetDatapines'\n",
    "    SetDatapines='SetDatapines asDefault'\n",
    "    SetDatapines_asDefault='ConnectANYPlatform'\n",
    "    ConnectANYPlatform='manageList'\n",
    "    manageList=('sort','merge','Update','add','addtoSave','SavaAs','edit','import','Export','display','show','plot','plotly','DataFrame','Configure','ConfigureTable','Create','CreateTable','CreatePivotTable', 'CreateFrequencyTable','graph','chart','BarChart','MultipleBarChart','CompositeBarChart','StackBarChart','Count','Counts','Default','SetAsDefault','Replace','Remove','Extract','Find','Undo','Redo','INSERT','RUN','Running','Next','Combine')\n",
    "    print('manageList:'+'newUpdate')\n",
    "    Save='ManageList','newUpdate'\n",
    "    df='Save'\n",
    "    'save.to_csv(manageList.csv,index=False)'\n",
    "                                                                                                        \n",
    "#SCHEMA STAGE\n",
    "manageList_csv='ONLink'\n",
    "ONLink='ONLinkButton'\n",
    "ONLinkButton='LinkAsk'\n",
    "LinkAsk='askQuestions'\n",
    "askQuestion='All_API'\n",
    "All_API='fieldLibrary'\n",
    "fieldLibrary=('ProjectName','ViewCountperDocument','SizeperDocument','FirstPublishDate','PublishingFrequncy','TotalTableauPublicVisualization','Usageduration','num_favouritiesperDoc'',MaxVisualization','MinVisualisation','Title&Description','NumVisualizatioProjects','Attribution','WorkBookRepoURL','FinalVisualization','VisualizationTableauPublicUpload')\n",
    "#EXAMPLE of DashBoard to Explore myTableauPublic data\n",
    "#ReplaceDataSource,data source will be replace in all worksheets and Dashboard\n",
    "#Create a DashBoardTableau Public Metric\n",
    "Create='create(DashBoardTableau)'\n",
    "createDashBoardTableau='create(DashBoardTableau.PublicMetric)'                                     \n",
    "row1='File_Name'\n",
    "file_Name='Daniel_Lato.file'\n",
    "#Running Total Of Visualisation by First Publish Data Size Circle by            \n",
    "row2='views'\n",
    "row3='Favourities'\n",
    "row4='Daniel_Lato.json' \n",
    "#ExampleValue\n",
    "rows='Key','value'\n",
    "row6='AllowDataAccess',True\n",
    "row7='WorkBookRepoURL','TotalNetAssetperPersonbyState'\n",
    "row8='AuthorProfileName','Daniel_Adeoye'\n",
    "row9='defaultView','MM2019W15.StateNetAssetsperPerson'\n",
    "row10='defaultViewRepoURL','TotalNetAssetsperPerson'\n",
    "row11='Description','TotalNetAssetsperPersonbyState(Weeks,Months,Year)'\n",
    "row12='FirstPublishDate',155468e+12\n",
    "row13='LastPublishDate',155468E+12\n",
    "row14='LastUpdateDate',155524E+12\n",
    "row15='numberOfFrame',6\n",
    "row16='OwnerID',352596\n",
    "row17='PermaLink','https//datavis.blog/2019/4/14/Creator'\n",
    "row18='revision',10\n",
    "TheSchema='PreserveFormat'\n",
    "preserveFormat='row1:row18'\n",
    "'display()'\n",
    "'Run'           \n",
    "replace='replaceDataSource'\n",
    "Current:'DANIEL_ADEOYE'\n",
    "Replacement:'LATO_ADEODU'\n",
    "Name:'yourName'  \n",
    "yourNameOnLink='OnLink'\n",
    "OnLink='OnLinkDimensions'\n",
    "OnLinkDimensions='newDimensions'\n",
    "newDimensions='SetnewDimensions,Analysticts(comments),pages'\n",
    "#SetnewDimension,#SetAnalysticts(commemts),#Setpages\n",
    "SetnewDimensions_Analysticts_comments_pages='format'\n",
    "format='formatPreseved(SetnewDimensions,Analysticts(comments),autopages)'\n",
    "formatPreseved_SetnewDimensions_Analysticts_comments_autopages='formatPreservedExpanded'\n",
    "formatPreservedExpanded='keys','value','index'\n",
    "r0w1='Attribution','NA','NA'\n",
    "row2='authorName','NA','NA'\n",
    "row3='DateFirstPublish','NA','NA'\n",
    "row4='MaxDate','NA','NA'\n",
    "row5='MinDate','NA','NA'\n",
    "kow6='Thumbtail','NA','NA'\n",
    "row7='MeasureName','NA','NA'\n",
    "#What Measure to Display\n",
    "row8='SourceMeasures','NA','NA'\n",
    "row9='IronQuery','NA','NA'\n",
    "row10='Ironviz','NA','NA'\n",
    "row11='MakeoverMonday','NA','NA'\n",
    "row12='ProjectHealthviz','NA','NA'\n",
    "#ACTIONS\n",
    "row13='EditDataSource','NA','NA'\n",
    "row14='Refresh','NA','NA'\n",
    "row15='viewData','NA','NA'\n",
    "row16='Re_Name','NA','NA'\n",
    "row17='RemoveDuplicate','NA','NA'\n",
    "row18='Close','NA','NA'\n",
    "row19='ExtractData','NA','NA'\n",
    "row20='EditDataSource','NA','NA'\n",
    "row21='Filter','NA','NA'\n",
    "row22='ReplaceDataSource','NA','NA'\n",
    "row23='AssumeReferentialintergrity'\n",
    "row24='dataProperties','NA','NA'\n",
    "row25='EditMeasures','NA','NA'\n",
    "row26='Publish.toServer','NA','NA'\n",
    "row27='AddtoSavedDataSource','NA','NA'\n",
    "row28='ExportDatatoCSV','NA','NA'\n",
    "row29='Properties','NA','NA'\n",
    "row30='numberOfFrame',6\n",
    "row31='OwnerID',352596\n",
    "row34='PermaLink','https//datavis.blog/2019/4/14/Creator'\n",
    "row35='revision',10\n",
    "TheSchema='PreserveFormat'\n",
    "preserveFormat='row1:row35'\n",
    "'display()'\n",
    "'Run'\n",
    "runClickOnLink=OnLink\n",
    "OnLink='if'\n",
    "if ('Current=Changed'):\n",
    "   OnClick='ClickOnButton'\n",
    "if('Replacement=Changed'):\n",
    "   OnClick='ClickOnButton'\n",
    "   OffClick='ClickOffButton'\n",
    "   Using='usingthisLink'\n",
    "   usingthisLink='usingthisLink.to_Tableau'\n",
    "   usingthisLink_to_Tableau='LinkDashBoard'\n",
    "   LinkDashBoard='linkDashBoardMenu'\n",
    "   Settings='settings.py'\n",
    "   settings_py='linkDashBoardMenu'\n",
    "   LinkDashBoardMenu='MenuList'\n",
    "   MenuList={'Respositories','Respositories+TrackerID','UserID','Client_ID','Client_Secret','WorKINTitle','TEAMStatus','INProgress','InDevelopment','INReview','INTransit','Column','Row','Rows','INStore','INTime','NOTINTime','INGroup'}\n",
    "#Create Access\n",
    "#Create Access\n",
    "#SIGNIN\n",
    "request='OnClickSearch'\n",
    "OnClickautoSearch='OnClickautoSearchUserE_MAILaddress'\n",
    "OnClickautoSearchUserE_MAILaddress='autofill'\n",
    "autofill='UserE_MAILaddress'\n",
    "if ('UserE-MAILaddress=ContinueUsage'):\n",
    "    press_SetONButton='SetOnContinueButton'\n",
    "    SetONContinueButton='Link'\n",
    "    Link='press(SetONButton)'\n",
    "if('User_PassWord=ContinueUsage'):\n",
    "    press_SetONButton='SetOnContinueButton'\n",
    "    OnClick='ONClickSaveButton'\n",
    "    ONClickSaveButton='SaveOnthisDevice'\n",
    "    DeviceAccept='SaveONthisDevice'\n",
    "    SaveONthisDevice='Link'\n",
    "    Link='newLink'\n",
    "    newLink='Continue'\n",
    "##Use SSH for POPs\n",
    "    Access='userAccess'\n",
    "    userAccess='usergrantAccess'\n",
    "    usergrantAccess='userAccessgranted'\n",
    "    userAccessgranted='ONLink'\n",
    "if ('UserAccessnotgranted=OFFLink'):\n",
    "    OFFLink='GOTO'\n",
    "    GOTO='LOGIN'\n",
    "#LOGIN##\n",
    "    LOGIN='request'\n",
    "    request='OnClickautogen'\n",
    "    OnClickautogen='OnClickautogenerateUserID'\n",
    "    OnClickautogenerateUserID='generateUserID'\n",
    "    generateUserID='autofill'\n",
    "    autofill='UserID'\n",
    "    INPUT='INPUT(NAME)'\n",
    "    INPUT='INPUT(ADDRESS)'\n",
    "    INPUT='INPUT(CITY)'\n",
    "    INPUT='INPUT(ZONE)'\n",
    "    INPUT='INPUT(COUNTRY)'\n",
    "    INPUT='INPUT(PASSWORD)'\n",
    "#Input most Constantly useSocial_URL\n",
    "    INPUT='INPUT(SOCIAL_URL)'\n",
    "    INPUT='INPUT(USERID)'\n",
    "if ('correctlyCOMPLETED'):\n",
    "    OnClick='ONClickSaveButton'\n",
    "    ONClickSaveButton='SaveOnthisDevice'\n",
    "    DeviceAccept='SaveONthisDevice'\n",
    "##Use SSH for POPs\n",
    "    SaveONthisDevice='Link'\n",
    "    Link='newLink'\n",
    "    newLink='Continue'\n",
    "if ('userAccessgranted=ONLink'):\n",
    "    ONLink='Continue TO'\n",
    "    ContinueTO='OnLink'\n",
    "    ONLink='ONLinkVLOOKUP'\n",
    "#VLOOKUP&References\n",
    "    ONLINKVLOOKUP='ReferencesLibrary'\n",
    "    ReferencesLibrary=('Address','Areas','Choose','Column','Columns','HyperLink','Index','Theme','GetTheme','Color','GetColor','GetPIVOT','GetPIVOTDATA','GetPIVOTTABLE','HLOOKUP','INDIRECT','LOOKUP','MATCH','OFFSET','ROW','ROWS','RTD','TRANSPOSE','VLOOKUP')\n",
    "    LOOKup_VALUE=['any']\n",
    "    Table_array=['ArrayNumberList']\n",
    "    Column_index_Num=['number']\n",
    "    Row_index_Num=['number']\n",
    "    Range_Lookup=['logical']\n",
    "    Formula_result='VLOOKUP'\n",
    "    VLOOKUP='VLOOKUP(LOOKUP_Value,Table_array,[range_LOOKUP])'\n",
    "    Type='VLOOKUP(TYPE())'\n",
    "#Collect with Showing||CollectwithoutShowing\n",
    "    VLOOKUP_TYPE='Collect'\n",
    "    Collect='CollectShowing'\n",
    "    CollectShowing='CollectShowingResults'\n",
    "    CollectShowingResults='newCollectShowingResults(VLOOKUP,VLOOKUP(TYPE()))'\n",
    "    newCollectShowingResults='Link'\n",
    "    Link='ClickLINK'\n",
    "    ClickLINK='OnClick'\n",
    "    OnClick='OnclickDashBoardMenu'\n",
    "for select_value in('MenuList'):\n",
    "    Autopaste='AutomaticPasteSelected_value'\n",
    "for AutomaticPasteSelected_value in('MenuList'):\n",
    "    AutoTransfer='AutomaticPasteSelected_value'\n",
    "    AutomaticPasteSelected_value='AutomaticPasteSelected_value.to_workSpace'\n",
    "    'return_Automatic_PasteSelected_value'\n",
    "    'display()'\n",
    "#ADD_ON_BUTTONS Settings\n",
    "    create='createPIVOT_Table(EIGHTEEN_Columns)'\n",
    "    Column='ColumnHeader'\n",
    "    ColumnHeader='ColumnHeaderName'\n",
    "    ColumnHeaderName=('Structure,Theme,ChartingLibrary,CardFront,CardBack,Select,view,Add_On,Off_On')\n",
    "    row='StartRow'\n",
    "    StartRow='Row1'\n",
    "    Row1='ProjectTitle'\n",
    "    ProjectTitle='NewADEODUProject'\n",
    "    row2='ColumnHeaderName'\n",
    "    row3='Start_OptionList'\n",
    "    OptionList={'INSelection','INDate_Time','InDevelopment','INReview','INHigherPriority','INLowPriority','InStore','INTransit','INTime','INTitle','INGroup'}\n",
    "    INSelection={'Columns','rows','Height','Width','days','weeks','months','years','estimate','Prediction','Calculate','size','spent','remaing','Totals','labels','Xlabel','Ylabel','List','SumPerList','features','Min','Max','Variance','Devation','StandardDeviation','ContentCreation','view','save','remove'}      \n",
    "    features={'Task','add','Add_On','Add_Button','Add_Button_Figma','Select_Column','Select_rows','Pivot_TABLE','plotPIVOT_TABLE','plot','Plotly','Upload','Post','make_available','Email','Transmit','MoveINTO','VLOOK','Select_Task_Done'}\n",
    "    row='endrow'\n",
    "    Endrow='End_OptionList'\n",
    "    End_OptionList=62\n",
    "    Add_On='Add_OnList'\n",
    "    Add_OnList='Add_ONButton'\n",
    "    Add_ONButton='Add_ONButtonClickPaletteLibrary'\n",
    "    Add_ONButtonClickPaletteLibrary='ONClickButton(QualitativeColorPalette,SequentialColorPalette,DivergentColorPalette,ColorBrewerPalette)'\n",
    "    Add_On='Add_OnList'\n",
    "    Add_OnList='Add_ONGraph'\n",
    "    Add_ONGraph='Add_ONGraphLibrary'\n",
    "    Add_On='Add_OnList'\n",
    "    Add_OnList='Add_ONCharting'\n",
    "    Add_ONCharting='Add_ONChartingLibrary'\n",
    "    Add_ONChartingLibrary=('HighChart','Chart.js','FusionCharts','PieChart','DoughnutChart','CompositeBarChart','BarChart','MultipleBarChart','Z_Chart')\n",
    "    Add_On='Add_OnList'\n",
    "    Add_OnList='Add_ONGraph'\n",
    "    Add_ONGraph='Add_ONGraphLibrary'\n",
    "    Add_ONGraphLibrary=('Histograph')\n",
    "for each_value in ('Columns'):\n",
    "#INPUT RIGHTTICK isONClick inside boxpreferred to activate Settings\n",
    "    IsON='RightTick'\n",
    "    RIGTHTICK='SwitchClick'\n",
    "for Selected_values in('rows|Columns'):\n",
    "    SwitchClick='SwitchClick(ADD_ON|ADD_OFF)'\n",
    "    Accept='accept_input(SwitchCLICKS)'\n",
    "    ColumnHeaderName={'Structure','Theme','ChartingLibrary','CardFront','CardBack','Select','view','ViewperList','viewperLabels','viewtotalperList','viewtotalsperLabels','viewMaxperList','viewMaxperLabels', 'viewMinperList','viewMinperLabels','Add_On','Off_On'}\n",
    "    Column_num='index'\n",
    "    index={1,2,3,4,5,6,7,8,9}\n",
    "    newColumnHeader='ColumnHeadNameappend(index)'\n",
    "    get='GetPivotTable'\n",
    "    GetPivotTable='newColumnHeader(HeaderNames,index)'\n",
    "    ColumnHeader='Horizontal'\n",
    "    Horizontal={'Cols':1,'Cols':2,'Cols':3,'Cols':4,'Cols':5,'Cols':6,'Cols':7,'Cols':8,'Cols':9,'Cols':10,'Cols':17}\n",
    "    GetPivotTable='row'\n",
    "    row='Vertical'\n",
    "    Vertical= {'row':3,'row':4,'row':5,'row':6,'row':7,'row':8,'row':9,'row':10,'Reports':22,'Upload':23, 'Post':24,'Share':25,'Save':26,'Remove':27} \n",
    "    row3='OptionLists'\n",
    "    row4='features'\n",
    "    row5='show'\n",
    "    row6='showing'\n",
    "    row7='Display'\n",
    "    row8='Displaying'\n",
    "    row9='Charting'\n",
    "    row10='Graph'\n",
    "    row11='Draw'\n",
    "    row12='Drawing'\n",
    "    row13='DrawGraph'\n",
    "    row15='DrawPieChart'\n",
    "    row16='DrawScatteredGraph'\n",
    "    row17='DrawBarChart'\n",
    "    row18='DrawMultipleBarChart'\n",
    "    row19='DrawCompositesBarChart'\n",
    "    row20='DrawZ_GRaph'\n",
    "    row21='DrawMovingGraph'\n",
    "    row22='Reports'\n",
    "    row23='Upload'\n",
    "    row24='Post'\n",
    "    row25='Share'\n",
    "    row26='Save'\n",
    "    row27='Remove'\n",
    "    row='nextrowLink'\n",
    "    NextLink='LinkExpandedrow'\n",
    "    LinkExpandedrow='Updatedrow'\n",
    "    Updatedrow1='Format'\n",
    "    Updatedrow2='formatting'\n",
    "    Updatedrow3='formatTables'\n",
    "    Updatedrow4='Styles'\n",
    "    Updatedrow5='insert'\n",
    "    Updatedrow6='Delete'\n",
    "    Updatedrow7='Filter'\n",
    "    Updatedrow8='Calculate'\n",
    "    Updatedrow9='Calulating'\n",
    "    Updatedrow10='plotPivot_table'\n",
    "    Updatedrow11='Find'\n",
    "    Updatedrow12='Paste'\n",
    "    Updatedrow13='Alignment'\n",
    "    Updatedrow14='formulas'\n",
    "    Updatedrow15='Number'\n",
    "    Updatedrow16='FileExplore'\n",
    "    Updaterow17='FileExploring'\n",
    "    Updaterow18='Convert'\n",
    "    Updaterow19='Converter'\n",
    "    Updaterow20='Converting'\n",
    "    Updaterow21='$%8*'\n",
    "    Updaterow22='Palette'\n",
    "    Updaterow23='ColorPalette'\n",
    "    Updaterow24='import pictures|videos'\n",
    "    Updaterow25='Open in newWindow'\n",
    "    Updaterow26='pin to QuickAccess'\n",
    "    Updaterow27='Pin to Start'\n",
    "    Updaterow28='Rename'\n",
    "    Updaterow29='Get'\n",
    "    Get='GetList'\n",
    "    GetList=('GetPivot','GetGraphs','GetPieCharts','GetDoughNutCharts','GetBarCharts','GetHorizontalBarChart','GetMultipleCharts','GetHorizontalMulipleBarCharts','GetComponentBarChart','GetHorizontalComponentBarCharts','GetStackBarchart','GetHorizontalStackBarCharts','GetHistogram','GetMovingTimeGraph')\n",
    "    Updaterow29='DownLoads'\n",
    "#SelectedLevelsdetermineWhichDimensionsandMeasures areAvailableforanalysis in theworkSheets             \n",
    "#AllData Sorted Should be used\n",
    "View='Open inTableau Public Favourites'\n",
    "Version=1.1\n",
    "Size='SizeOfWorkSheet'\n",
    "SizeOfWorkSheet=379\n",
    "Access='DataAccess'\n",
    "DataAccess='yes'\n",
    "Sort='SortFiles'\n",
    "SortFiles='SortFilesDataFavorites'\n",
    "Title='MostViews'\n",
    "SortFilesDataFavorites=('AuthorProfile','DefaultView','DefaultRepoView','Description','FirstPublishDate','LastPublishDate','YearsOnPublicTableau','Num_Visualisation','TotalVisualisation','TotalFavourites','MonthlyUploads','MostViews','MostFavourites')\n",
    "xlabel='Months'\n",
    "Months='startMonths'\n",
    "startMonths=('Jan','Feb','Mar','April','May','Jun','Jul','Aug','Sept','Oct','Nov','Dec')*2\n",
    "ylabel=('SolarEclipse','TableauSetActions','SetActionsWebinar,DataUSA_Api','KeyDemography','UKgenderpay','Gap2017-2018')\n",
    "for values in('Columns','rows'):\n",
    "    get='Get(PIVOTTABLE)'\n",
    "    display ('horizontal=cols','Vertical=rows')\n",
    "    plt.xlabel    \n",
    "    plt.ylabel\n",
    "    plt.title('MostView')\n",
    "    plt.show()\n",
    "    'RUN'\n",
    "for values in('Columns','rows'):\n",
    "    get='Get(PieCharts)'\n",
    "    display ('horizontal=cols','Vertical=rows')\n",
    "    plt.show('PIECharts')\n",
    "    plt.xlabel    \n",
    "    plt.ylabel\n",
    "    plt.title('MostView')\n",
    "    plt.show()\n",
    "    'RUN'  \n",
    "for values in('Columns','rows'):\n",
    "    get='Get(DoughNutsCharts)'\n",
    "    display ('horizontal=cols','Vertical=rows')\n",
    "    plt.xlabel    \n",
    "    plt.ylabel\n",
    "    plt.title('MostView')\n",
    "    plt.show()\n",
    "    'RUN' \n",
    "for values in('Columns','rows'):\n",
    "    get='Get(BarCharts)'\n",
    "    display ('horizontal=cols','Vertical=rows')\n",
    "    plt.xlabel    \n",
    "    plt.ylabel\n",
    "    plt.title('MostView')\n",
    "    plt.show()\n",
    "    'RUN'   \n",
    "for values in('Columns','rows'):\n",
    "    get='Get(HorizontalBarCharts)'\n",
    "    display ('horizontal=cols','Vertical=rows')\n",
    "    plt.xlabel    \n",
    "    plt.ylabel\n",
    "    plt.title('MostView')\n",
    "    plt.show()\n",
    "    'RUN'\n",
    "for values in('Columns','rows'):\n",
    "    get='Get(MultipleBarCharts)'\n",
    "    display ('horizontal=cols','Vertical=rows')\n",
    "    plt.xlabel    \n",
    "    plt.ylabel\n",
    "    plt.title('MostView')\n",
    "    plt.show()\n",
    "    'RUN' \n",
    "for values in('Columns','rows'):\n",
    "    get='Get(HorizontalMultipleBarCharts)'\n",
    "    display ('horizontal=cols','Vertical=rows')\n",
    "    plt.xlabel    \n",
    "    plt.ylabel\n",
    "    plt.title('MostView')\n",
    "    plt.show()\n",
    "    'RUN'\n",
    "\n",
    "Access='DataAccess'\n",
    "DataAccess='yes'\n",
    "Sort='SortFiles'\n",
    "SortFiles='SortFilesDataFavorites'\n",
    "Title='MostViews'\n",
    "SortFilesDataFavorites=('AuthorProfile','DefaultView','DefaultRepoView','Description','FirstPublishDate','LastPublishDate','YearsOnPublicTableau','Num_Visualisation','TotalVisualisation','TotalFavourites','MonthlyUploads','MostViews','MostFavourites')\n",
    "xlabel='Months'\n",
    "Months='startMonths'\n",
    "startMonths=('Jan','Feb','Mar','April','May','Jun','Jul','Aug','Sept','Oct','Nov','Dec')*2\n",
    "ylabel=('SetActionWebinar','TableauSetActions','LifeExpectancy','bycountrys&Group','TotalNetasperPersonbyState','BearAlcohol&Bitterness','TheBigMacindex')\n",
    "for values in('Columns','rows'):\n",
    "    get='Get(PIVOTTABLE)'\n",
    "    display ('horizontal=cols','Vertical=rows')\n",
    "    plt.xlabel    \n",
    "    plt.ylabel\n",
    "    plt.title('MostFavorites')\n",
    "    plt.show()\n",
    "    'RUN'\n",
    "    \n",
    "for values in('Columns','rows'):\n",
    "    get='Get(PieCharts)'\n",
    "    display ('horizontal=cols','Vertical=rows')\n",
    "    plt.xlabel    \n",
    "    plt.ylabel\n",
    "    plt.title('MostFavorites')\n",
    "    plt.show()\n",
    "    'RUN'\n",
    "for values in('Columns','rows'):\n",
    "    get='Get(DoughNutsCharts)'\n",
    "    display ('horizontal=cols','Vertical=rows')\n",
    "    plt.xlabel    \n",
    "    plt.ylabel\n",
    "    plt.title('MostFavorites')\n",
    "    plt.show()\n",
    "    'RUN'  \n",
    "for values in('Columns','rows'):\n",
    "    get='Get(BarCharts)'\n",
    "    display ('horizontal=cols','Vertical=rows')\n",
    "    plt.xlabel    \n",
    "    plt.ylabel\n",
    "    plt.title('MostFavorites')\n",
    "    plt.show()\n",
    "    'RUN'\n",
    "for values in('Columns','rows'):\n",
    "    get='Get(HorizontalBarCharts)'\n",
    "    display ('horizontal=cols','Vertical=rows')\n",
    "    plt.xlabel    \n",
    "    plt.ylabel\n",
    "    plt.title('MostFavorites')\n",
    "    plt.show()\n",
    "    'RUN' \n",
    "     \n",
    "for values in('Columns','rows'):\n",
    "    get='Get(MultipleBarCharts)'\n",
    "    display ('horizontal=cols','Vertical=rows')\n",
    "    plt.xlabel    \n",
    "    plt.ylabel\n",
    "    plt.title('MostFavorites')\n",
    "    plt.show()\n",
    "    'RUN'\n",
    "    \n",
    "for values in('Columns','rows'):\n",
    "    get='Get(HorizontalMultipleBarCharts)'\n",
    "    display ('horizontal=cols','Vertical=rows')\n",
    "    plt.xlabel    \n",
    "    plt.ylabel\n",
    "    plt.title('MostFavorites')\n",
    "    plt.show()\n",
    "    'RUN'\n",
    "Access='DataAccess'\n",
    "DataAccess='yes'\n",
    "Sort='SortFiles'\n",
    "SortFiles='SortFilesDataFavorites'\n",
    "Title='MostViews'\n",
    "SortFilesDataFavorites=('AuthorProfile','DefaultView','DefaultRepoView','Description','FirstPublishDate','LastPublishDate','YearsOnPublicTableau','Num_Visualisation','TotalVisualisation','TotalFavourites','MonthlyUploads','MostViews','MostFavourites')\n",
    "xlabel='Months'\n",
    "Months='startMonths'\n",
    "startMonths=('Jan','Feb','Mar','April','May','Jun','Jul','Aug','Sept','Oct','Nov','Dec')*2\n",
    "ylabel=('Luke','Stanke','Rody','Zakonvich','Ani','Jackson','Curtis','Harris','Eden','Kevin','FieriageLoma')\n",
    "for values in('Columns','rows'):\n",
    "    get='Get(PIVOTTABLE)'\n",
    "    display ('horizontal=cols','Vertical=rows')\n",
    "    plt.xlabel\n",
    "    plt.ylabel\n",
    "    plt.title('INSPIRATION')\n",
    "    plt.show()\n",
    "    'RUN'   \n",
    "    \n",
    "for values in('Columns','rows'):\n",
    "    get='Get(PieCharts)'\n",
    "    display ('horizontal=cols','Vertical=rows')\n",
    "    plt.xlabel\n",
    "    plt.ylabel\n",
    "    plt.title('INSPIRATION')\n",
    "    plt.show()\n",
    "    'RUN'  \n",
    "    \n",
    "for values in('Columns','rows'):\n",
    "    get='Get(DoughNutsCharts)'\n",
    "    display ('horizontal=cols','Vertical=rows')\n",
    "    plt.xlabel\n",
    "    plt.ylabel\n",
    "    plt.title('INSPIRATION')\n",
    "    plt.show()\n",
    "    'RUN'  \n",
    "    \n",
    "for values in('Columns','rows'):\n",
    "    get='Get(BarCharts)'\n",
    "    display ('horizontal=cols','Vertical=rows')\n",
    "    plt.xlabel\n",
    "    plt.ylabel\n",
    "    plt.title('INSPIRATION')\n",
    "    plt.show()\n",
    "    'RUN' \n",
    "    \n",
    "for values in('Columns','rows'):\n",
    "    get='Get(HorizontalBarCharts)'\n",
    "    display ('horizontal=cols','Vertical=rows')\n",
    "    plt.xlabel\n",
    "    plt.ylabel\n",
    "    plt.title('INSPIRATION')\n",
    "    plt.show()\n",
    "    'RUN' \n",
    "    \n",
    "for values in('Columns','rows'):\n",
    "    get='Get(MultipleBarCharts)'\n",
    "    display ('horizontal=cols','Vertical=rows')\n",
    "    plt.xlabel\n",
    "    plt.ylabel\n",
    "    plt.title('INSPIRATION')\n",
    "    plt.show()\n",
    "    'RUN' \n",
    "    \n",
    "for values in('Columns','rows'):\n",
    "    get='Get(HorizontalMultipleBarCharts)'\n",
    "    display ('horizontal=cols','Vertical=rows')\n",
    "    plt.xlabel\n",
    "    plt.ylabel\n",
    "    plt.title('INSPIRATION')\n",
    "    plt.show()\n",
    "    'RUN'\n",
    "Access='DataAccess'\n",
    "DataAccess='yes'\n",
    "Sort='SortFiles'\n",
    "SortFiles='SortFilesDataFavorites'\n",
    "Title='MostViews'\n",
    "SortFilesDataFavorites=('AuthorProfile','DefaultView','DefaultRepoView','Description','FirstPublishDate','LastPublishDate','YearsOnPublicTableau','Num_Visualisation','TotalVisualisation','TotalFavourites','MonthlyUploads','MostViews','MostFavourites')\n",
    "xlabel='Months'\n",
    "Months='startMonths'\n",
    "startMonths=('Jan','Feb','Mar','April','May','Jun','Jul','Aug','Sept','Oct','Nov','Dec')*2\n",
    "ylabel=('IronQuest','Ironviz','MakeMonday','ProjectHealthviz','SWDChalleng','SportViz','ThrowBackData','VizForSocialGroup','WorkoutWebinar')\n",
    "for values in('Columns','rows'):\n",
    "    get='Get(PIVOTTABLE)'\n",
    "    display ('horizontal=cols','Vertical=rows')\n",
    "    plt.xlabel\n",
    "    plt.ylabel\n",
    "    plt.title('Projects')\n",
    "    plt.show()    \n",
    "    'RUN'    \n",
    "for values in('Columns','rows'):\n",
    "    get='Get(PieCharts)'\n",
    "    display ('horizontal=cols','Vertical=rows')\n",
    "    plt.xlabel\n",
    "    plt.ylabel\n",
    "    plt.title('Projects')\n",
    "    plt.show()    \n",
    "    'RUN'    \n",
    "for values in('Columns','rows'):\n",
    "    get='Get(DoughNutsCharts)'\n",
    "    display ('horizontal=cols','Vertical=rows')\n",
    "    plt.xlabel\n",
    "    plt.ylabel\n",
    "    plt.title('Projects')\n",
    "    plt.show()    \n",
    "    'RUN'    \n",
    "for values in('Columns','rows'):\n",
    "    get='Get(BarCharts)'\n",
    "    display ('horizontal=cols','Vertical=rows')\n",
    "    plt.xlabel\n",
    "    plt.ylabel\n",
    "    plt.title('Projects')\n",
    "    plt.show()    \n",
    "    'RUN'    \n",
    "for values in('Columns','rows'):\n",
    "    get='Get(HorizontalBarCharts)'\n",
    "    display ('horizontal=cols','Vertical=rows')\n",
    "    plt.xlabel\n",
    "    plt.ylabel\n",
    "    plt.title('Projects')\n",
    "    plt.show()    \n",
    "    'RUN'    \n",
    "for values in('Columns','rows'):\n",
    "    get='Get(MultipleBarCharts)'\n",
    "    display ('horizontal=cols','Vertical=rows')\n",
    "    plt.xlabel\n",
    "    plt.ylabel\n",
    "    plt.title('Projects')\n",
    "    plt.show()    \n",
    "    'RUN'    \n",
    "for values in('Columns','rows'):\n",
    "    get='Get(HorizontalMultipleBarCharts)'\n",
    "    display ('horizontal=cols','Vertical=rows')\n",
    "    plt.xlabel\n",
    "    plt.ylabel\n",
    "    plt.title('Projects')\n",
    "    plt.show()    \n",
    "    'RUN'    \n",
    "for Selected_values in('rows|Columns'):\n",
    "    a='Tableau'\n",
    "    b='Excel'\n",
    "    merge='merge(Tableau.to_Excel)'\n",
    "    setup='newSetUp'\n",
    "    newSetUp='Public'\n",
    "    display ('newSetUp')\n",
    "    save='newSetUp'\n",
    "    df='save'\n",
    "    Save='df.to_csv(save.csv,index=False)'\n",
    "import os\n",
    "import pandas as pd\n",
    "File=os\n",
    "df=pd.Series('save.csv')\n",
    "writepath='Some/CLATO/to_excel/LATODashBoard.excel'\n",
    "mode='a+'\n",
    "if 'os.path/LATO.exists(writeC/LATO/LATODashBoard.excel)':\n",
    "    print('The file present at the path is a regular file:','isfile')\n",
    "if 'os.path/LATO.exists(writeC/LATO/LATODashBoard.excel)'=='afile':\n",
    "    'w'\n",
    "    with Open('writeC/LATO.mode') as f:\n",
    "        f.write('LATODashBoard.excel')\n",
    "        f.write('LATODashBoard.excel.append(to_excel)')\n",
    "print('path points toDirectory:','isDirectory')\n",
    "df\n",
    "('df.to_excel(LATODashBoard.excel,index=None)')\n",
    "import re\n",
    "ClickON='ClickONDOWNLOAD'\n",
    "ClickONDOWNLOAD='ClickONDOWNLOADButton'\n",
    "ClickONDOWNLOADButton='request'\n",
    "request='plugin'\n",
    "plugin='pluginmake(request)'\n",
    "pluginmakerequest='request'\n",
    "request='request(downLOAD(URL/https://www.Businessinfo/fileNAME.File))'\n",
    "Select='SelectSocket'\n",
    "SelectSocket='Locate'\n",
    "Locate='doSomething'\n",
    "doSomething='plug'\n",
    "plug='plugin(Socket)'\n",
    "pluginSocket='(URL/https://www.Businessinfo/fileNAME.FileType)'\n",
    "ONClickButton='ONClickOpen'\n",
    "ONClickOpen='ONClickOpenButton'\n",
    "ONClickOpenButton='ONclickOPENfreely'\n",
    "ONclickOPENfreely='ONClickSelectButton'\n",
    "ONClickSelectButton='doSOMETHINGSelect'\n",
    "doSometHINGSelect='SelectFile'\n",
    "SelectFile='SelectFileOptionList'\n",
    "SelectFileOptionList='SelectSpecifyFileANY'\n",
    "SelectSpecifyFileANY=('CSV','PDF','xlsx','HTML','JSON','React.Js','GIF','DOC')\n",
    "OnLinkButton='ONLinkFetchButton'\n",
    "OnLinkFetchButton='FetchSelectedFileType'\n",
    "DOWNLOAD='doSomeTHING'\n",
    "DownLoad='DOWNLOADFile'\n",
    "#Create Tableau here"
   ]
  },
  {
   "cell_type": "code",
   "execution_count": null,
   "metadata": {},
   "outputs": [],
   "source": []
  },
  {
   "cell_type": "code",
   "execution_count": null,
   "metadata": {},
   "outputs": [],
   "source": []
  },
  {
   "cell_type": "code",
   "execution_count": null,
   "metadata": {},
   "outputs": [],
   "source": []
  },
  {
   "cell_type": "code",
   "execution_count": null,
   "metadata": {},
   "outputs": [],
   "source": []
  },
  {
   "cell_type": "code",
   "execution_count": null,
   "metadata": {},
   "outputs": [],
   "source": []
  }
 ],
 "metadata": {
  "kernelspec": {
   "display_name": "Python 3",
   "language": "python",
   "name": "python3"
  },
  "language_info": {
   "codemirror_mode": {
    "name": "ipython",
    "version": 3
   },
   "file_extension": ".py",
   "mimetype": "text/x-python",
   "name": "python",
   "nbconvert_exporter": "python",
   "pygments_lexer": "ipython3",
   "version": "3.7.6"
  }
 },
 "nbformat": 4,
 "nbformat_minor": 4
}
